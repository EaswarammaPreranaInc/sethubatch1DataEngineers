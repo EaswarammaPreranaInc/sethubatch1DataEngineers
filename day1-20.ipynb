{
 "cells": [
  {
   "cell_type": "code",
   "execution_count": 3,
   "id": "a420ee1a-80e6-4852-bd84-f13b42f7c3d2",
   "metadata": {},
   "outputs": [
    {
     "name": "stdin",
     "output_type": "stream",
     "text": [
      " 9\n"
     ]
    },
    {
     "name": "stdout",
     "output_type": "stream",
     "text": [
      "9.0\n",
      "<class 'float'>\n"
     ]
    },
    {
     "name": "stdin",
     "output_type": "stream",
     "text": [
      " 9\n"
     ]
    },
    {
     "name": "stdout",
     "output_type": "stream",
     "text": [
      "9\n",
      "<class 'int'>\n"
     ]
    }
   ],
   "source": [
    "# use float when you have a decimal input but if you use eval function all objects are valid so you get different result\n",
    "a=float(input())\n",
    "print(a)\n",
    "print(type(a))\n",
    "b=eval(input())\n",
    "print(b)\n",
    "print(type(b))"
   ]
  },
  {
   "cell_type": "code",
   "execution_count": 35,
   "id": "a3a44903-f01d-4bb5-9059-383969884d5e",
   "metadata": {},
   "outputs": [
    {
     "name": "stdin",
     "output_type": "stream",
     "text": [
      "Enter the length of rectange: 23.4\n",
      "Enter the breadth of rectange: 21\n"
     ]
    },
    {
     "name": "stdout",
     "output_type": "stream",
     "text": [
      "Area : 491.40\n",
      "perimeter : 88.8\n"
     ]
    }
   ],
   "source": [
    "#Write  a  program  to  determine  area  and  perimeter  of  rectangle\n",
    "try:\n",
    "    l=float(input(\"Enter the length of rectange:\"))\n",
    "    b=float(input(\"Enter the breadth of rectange:\"))\n",
    "    print(f\"Area : {l*b:.2f}\") #it prints on two decimal points\n",
    "    print(f\"perimeter : {2*(l+b)}\")\n",
    "except:\n",
    "    print(\"Enter the float number only\")"
   ]
  },
  {
   "cell_type": "code",
   "execution_count": 44,
   "id": "b64d2f45-e10a-414c-8cb1-b2a1ad1bf2ff",
   "metadata": {},
   "outputs": [
    {
     "name": "stdin",
     "output_type": "stream",
     "text": [
      "Enter the radius of sphere: 3.5\n"
     ]
    },
    {
     "name": "stdout",
     "output_type": "stream",
     "text": [
      "volume of sphere: 179.59438003021648\n"
     ]
    }
   ],
   "source": [
    "#Write  a  program  to  determine  volume  of  a  sphere (4/3*pi*r^3)\n",
    "import math\n",
    "r=float(input(\"Enter the radius of sphere:\"))\n",
    "volume=4/3*math.pi*r**3\n",
    "print(f\"volume of sphere: {volume}\")"
   ]
  },
  {
   "cell_type": "code",
   "execution_count": 51,
   "id": "6ee3c135-c935-4b3e-8825-df2f214b7239",
   "metadata": {},
   "outputs": [
    {
     "name": "stdin",
     "output_type": "stream",
     "text": [
      "Enter the principle amount: 100000\n",
      "Enter the n.o of months: 2\n",
      "Enter the rate of intrest: 12\n"
     ]
    },
    {
     "name": "stdout",
     "output_type": "stream",
     "text": [
      "simple intrest : 24000.0\n",
      "compound intrest : 25440.000000000015\n"
     ]
    }
   ],
   "source": [
    "#Write  a  program  to  determine  simple  interest ptr/100  and  compound  interest p*(1+r/100)^t-p\n",
    "try:\n",
    "    p=int(input(\"Enter the principle amount:\"))\n",
    "    t=float(input(\"Enter the n.o of months:\"))\n",
    "    r=float(input(\"Enter the rate of intrest:\"))\n",
    "    print(f\"simple intrest : {(p*t*r)/100}\")\n",
    "    print(f\"compound intrest : {(p*(1+r/100)**t)-p}\")\n",
    "except:\n",
    "    print(\"Enter the valid input\")"
   ]
  },
  {
   "cell_type": "code",
   "execution_count": 64,
   "id": "7ea28147-fcd8-4d51-b6f7-670d3ea55c8d",
   "metadata": {},
   "outputs": [
    {
     "name": "stdin",
     "output_type": "stream",
     "text": [
      "Enter any number: 2\n",
      "Enter any number: 3\n"
     ]
    },
    {
     "name": "stdout",
     "output_type": "stream",
     "text": [
      "Before swaping a=2 b=3\n",
      "After swaping a=3 b=2\n"
     ]
    }
   ],
   "source": [
    "# Write  a  program  to  swap  values  of  two  objects  using  3rd   object\n",
    "a=int(input(\"Enter any number:\"))\n",
    "b=int(input(\"Enter any number:\"))\n",
    "print(f\"Before swaping {a=} {b=}\")\n",
    "temp=a\n",
    "a=b\n",
    "b=temp\n",
    "print(f\"After swaping {a=} {b=}\")"
   ]
  },
  {
   "cell_type": "code",
   "execution_count": 66,
   "id": "555667e8-ecdd-4d0a-ad8e-fe2113eb48e7",
   "metadata": {},
   "outputs": [
    {
     "name": "stdin",
     "output_type": "stream",
     "text": [
      "Enter any number: -20\n",
      "Enter any number: 30\n"
     ]
    },
    {
     "name": "stdout",
     "output_type": "stream",
     "text": [
      "Before swaping a=-20 b=30\n",
      "After swaping a=30 b=-20\n"
     ]
    }
   ],
   "source": [
    "#Write  a  program  to  swap  values  of  two  objects  without  using  3rd  object\n",
    "#Hint: One  addition  and  two  subtractions\n",
    "a=int(input(\"Enter any number:\"))\n",
    "b=int(input(\"Enter any number:\"))\n",
    "print(f\"Before swaping {a=} {b=}\")\n",
    "a=a+b #2+3=5\n",
    "b=a-b #5-3=2\n",
    "a=a-b #5-2=3\n",
    "print(f\"After swaping {a=} {b=}\")\n"
   ]
  },
  {
   "cell_type": "code",
   "execution_count": 71,
   "id": "72954dc4-fc03-421b-aef0-6fc55f35f233",
   "metadata": {},
   "outputs": [
    {
     "name": "stdin",
     "output_type": "stream",
     "text": [
      "Enter any number: 3\n",
      "Enter any number: 2\n"
     ]
    },
    {
     "name": "stdout",
     "output_type": "stream",
     "text": [
      "Before swaping a=3 b=2\n",
      "After swaping a=2 b=3\n"
     ]
    }
   ],
   "source": [
    "#Write  a  program  to  swap  values  of  two  objects  without  using  3rd  object\n",
    "#Hint: One  multiplication  and  two  divisions\n",
    "a=int(input(\"Enter any number:\"))\n",
    "b=int(input(\"Enter any number:\"))\n",
    "print(f\"Before swaping {a=} {b=}\")\n",
    "a=a*b #2*3=6\n",
    "b=a//b #6//3=2  #/---> is always float\n",
    "a=a//b #6//2=3  #//--> if the object is float\n",
    "print(f\"After swaping {a=} {b=}\")"
   ]
  },
  {
   "cell_type": "code",
   "execution_count": 6,
   "id": "09a8da5e-ffc9-40b2-898f-155602c5754a",
   "metadata": {},
   "outputs": [
    {
     "name": "stdin",
     "output_type": "stream",
     "text": [
      "Enter any complex number: 3+4j\n",
      "Enter any complex number: 0+0j\n"
     ]
    },
    {
     "name": "stdout",
     "output_type": "stream",
     "text": [
      "sum:(3+4j)\n",
      "difference:(3+4j)\n",
      "product:0j\n",
      "Enter only complex number\n"
     ]
    }
   ],
   "source": [
    "#Write  a  program  to  add ,  subtract , multiply  and  divide  two  complex  numbers\n",
    "try:\n",
    "    a=complex(input(\"Enter any complex number:\"))\n",
    "    b=complex(input(\"Enter any complex number:\"))\n",
    "    print(f\"sum:{a+b}\")\n",
    "    print(f\"difference:{a-b}\")\n",
    "    print(f\"product:{a*b}\")\n",
    "    print(f\"divide:{a/b}\")\n",
    "except:\n",
    "    print(\"Enter only complex number\")"
   ]
  },
  {
   "cell_type": "code",
   "execution_count": 22,
   "id": "b533e86f-954d-4cc2-9a76-cbbe4e48e117",
   "metadata": {},
   "outputs": [
    {
     "name": "stdin",
     "output_type": "stream",
     "text": [
      "Enter any number 2\n",
      "Enter any number 3\n"
     ]
    },
    {
     "name": "stdout",
     "output_type": "stream",
     "text": [
      "a + b = 5\n",
      "a - b = -1\n",
      "a * b = 6\n",
      "a / b = 0.67\n",
      "a % b = 2\n",
      "largest = 3\n",
      "smallest = 2\n",
      "squareroot of a = 1.4142135623730951\n",
      "gcd = 1\n",
      "factorial = 2\n",
      "a power of b = 8\n"
     ]
    }
   ],
   "source": [
    "'''Write  a  program  to  determine  sum , difference , product , quotient , largest and  smallest  of  two  numbers.\n",
    "Also  find  remainder,  sqrt  of  first  input , power, gcd  and  factorial  of  first  input'''\n",
    "import math\n",
    "a=int(input(\"Enter any number\"))\n",
    "b=int(input(\"Enter any number\"))\n",
    "print(f\"a + b = {a+b}\")\n",
    "print(f\"a - b = {a-b}\")\n",
    "print(f\"a * b = {a*b}\")\n",
    "print(f\"a / b = {a/b:.2f}\")\n",
    "print(f\"a % b = {a%b}\")\n",
    "print(f\"largest = {max(a,b)}\")\n",
    "print(f\"smallest = {min(a,b)}\")\n",
    "print(f\"squareroot of a = {math.sqrt(a)}\")\n",
    "print(f\"gcd = {math.gcd(a,b)}\")\n",
    "print(f\"factorial = {math.factorial(a)}\")\n",
    "print(f\"a power of b = {a**b}\")"
   ]
  },
  {
   "cell_type": "code",
   "execution_count": 25,
   "id": "9331822f-63b1-4e8b-8966-eaf2859a6b1f",
   "metadata": {},
   "outputs": [
    {
     "name": "stdout",
     "output_type": "stream",
     "text": [
      "Before swaping a=2 b=3\n",
      "After swaping a=3 b=2\n"
     ]
    }
   ],
   "source": [
    "a=2\n",
    "b=3\n",
    "print(f\"Before swaping {a=} {b=}\")\n",
    "a,b=b,a\n",
    "print(f\"After swaping {a=} {b=}\")"
   ]
  },
  {
   "cell_type": "code",
   "execution_count": 8,
   "id": "38cb269d-cc27-4611-9067-5cc263cb5da4",
   "metadata": {},
   "outputs": [
    {
     "name": "stdin",
     "output_type": "stream",
     "text": [
      "Enter 1st input 20\n",
      "Enter 2st input 30\n"
     ]
    },
    {
     "name": "stdout",
     "output_type": "stream",
     "text": [
      "Largest input : 30\n"
     ]
    }
   ],
   "source": [
    "# Write  a  program  to  determine  largest  of  two  inputs  without  using  max()  function\n",
    "try:\n",
    "    a=eval(input(\"Enter 1st input\"))\n",
    "    b=eval(input(\"Enter 2st input\"))\n",
    "    print(f\"Largest input : {a if a>b else b}\")\n",
    "except:\n",
    "    print(\"Enter the string in quots\")"
   ]
  },
  {
   "cell_type": "code",
   "execution_count": 17,
   "id": "ffdb5683-d365-43ff-b4b5-22a74e35c5c0",
   "metadata": {},
   "outputs": [
    {
     "name": "stdin",
     "output_type": "stream",
     "text": [
      "Enter 1st input [1.0,2,4]\n",
      "Enter 2st input [1,2,3]\n",
      "Enter 3rd input [0,0,0]\n"
     ]
    },
    {
     "name": "stdout",
     "output_type": "stream",
     "text": [
      "Largest Input : [1.0, 2, 4]\n"
     ]
    }
   ],
   "source": [
    "#Write  a  program  to  determine  largest  of  three  inputs  without  using  max()  function\n",
    "try:\n",
    "    a=eval(input(\"Enter 1st input\"))\n",
    "    b=eval(input(\"Enter 2st input\"))\n",
    "    c=eval(input(\"Enter 3rd input\"))\n",
    "    print(f\"Largest Input : {a if a>b and a>c else b if b>c and b>a else c}\")\n",
    "except:\n",
    "    print(\"Enter valid input\")"
   ]
  },
  {
   "cell_type": "code",
   "execution_count": 28,
   "id": "aa4b0adf-db1b-431e-99e2-15bb38b5e664",
   "metadata": {},
   "outputs": [
    {
     "name": "stdin",
     "output_type": "stream",
     "text": [
      "Enter 1st input 23\n",
      "Enter 2st input 23\n"
     ]
    },
    {
     "name": "stdout",
     "output_type": "stream",
     "text": [
      "Result : =\n"
     ]
    }
   ],
   "source": [
    "\"\"\"Write  a  program  to  print   '>'  if  1st  input  >  2nd  input,                                               \n",
    "'<'  if  1st  input  <  2nd  input  and '='  if  inputs  are  same\"\"\"\n",
    "try:\n",
    "    a=eval(input(\"Enter 1st input\"))\n",
    "    b=eval(input(\"Enter 2st input\"))\n",
    "    print(f\"Result : {\">\" if a>b else \"<\" if a<b else \"=\"}\")\n",
    "except:\n",
    "    print(\"Enter valid input\")"
   ]
  },
  {
   "cell_type": "code",
   "execution_count": 58,
   "id": "20026375-37de-462f-a037-66e0b965a115",
   "metadata": {},
   "outputs": [
    {
     "name": "stdin",
     "output_type": "stream",
     "text": [
      "Enter 1st input 999\n"
     ]
    },
    {
     "name": "stdout",
     "output_type": "stream",
     "text": [
      "Result : 1\n"
     ]
    }
   ],
   "source": [
    "#Write a program to print 1 if input is +ve, -1 if input is -ve and 0 if input is 0\n",
    "try:\n",
    "    a=int(input(\"Enter 1st input\"))\n",
    "    print(f\"Result : {-1 if a<0 else 1 if a>0 else 0}\")\n",
    "except:\n",
    "    print(\"Enter valid input\")"
   ]
  },
  {
   "cell_type": "code",
   "execution_count": 53,
   "id": "8d7b7d04-838d-4a79-b676-660bfa9f62d9",
   "metadata": {},
   "outputs": [
    {
     "name": "stdin",
     "output_type": "stream",
     "text": [
      "Enter 1st input 9\n"
     ]
    },
    {
     "name": "stdout",
     "output_type": "stream",
     "text": [
      "Result : Odd\n"
     ]
    }
   ],
   "source": [
    "#Write a program to test input is even number or odd number\n",
    "try:\n",
    "    a=int(input(\"Enter 1st input\"))\n",
    "    print(f\"Result : {\"Even\" if a%2==0 else \"Odd\"}\")\n",
    "except:\n",
    "    print(\"Enter valid input\")"
   ]
  },
  {
   "cell_type": "code",
   "execution_count": 62,
   "id": "72a30066-ae10-4c71-bf10-0900d48adb81",
   "metadata": {},
   "outputs": [
    {
     "name": "stdin",
     "output_type": "stream",
     "text": [
      "Enter 1st input 3\n"
     ]
    },
    {
     "name": "stdout",
     "output_type": "stream",
     "text": [
      "result:Odd\n"
     ]
    }
   ],
   "source": [
    "a=int(input(\"Enter 1st input\"))\n",
    "b= \"Even\" if a%2==0 else \"Odd\"\n",
    "print(f\"result:{b}\")"
   ]
  },
  {
   "cell_type": "code",
   "execution_count": 4,
   "id": "46ccfbe5-ea25-4497-973c-4ccda6ace75b",
   "metadata": {},
   "outputs": [
    {
     "name": "stdin",
     "output_type": "stream",
     "text": [
      "Enter any number: 2\n"
     ]
    },
    {
     "name": "stdout",
     "output_type": "stream",
     "text": [
      "Even Number\n"
     ]
    }
   ],
   "source": [
    "# Write a program to determine a number is even or odd with if statement\n",
    "try:\n",
    "    a=int(input(\"Enter any number:\"))\n",
    "    if a%2==0:\n",
    "        print(\"Even Number\")\n",
    "    else:\n",
    "        print(\"Odd Numer\")\n",
    "except:\n",
    "    print(\"Enter valid input\")"
   ]
  },
  {
   "cell_type": "code",
   "execution_count": 8,
   "id": "34f8e65d-908a-4016-8834-a3caf3210505",
   "metadata": {},
   "outputs": [
    {
     "name": "stdin",
     "output_type": "stream",
     "text": [
      "Enter month number(1-12): 8\n"
     ]
    },
    {
     "name": "stdout",
     "output_type": "stream",
     "text": [
      "August\n"
     ]
    }
   ],
   "source": [
    "## Write a program to print month name for input month number by using if and elif(Home  work)\n",
    "try:\n",
    "    a=int(input(\"Enter month number(1-12):\"))\n",
    "    if a<12:\n",
    "        if a==1:\n",
    "            print(\"January\")\n",
    "        elif a==2:\n",
    "            print(\"February\")\n",
    "        elif a==3:\n",
    "            print(\"March\")\n",
    "        elif a==4:\n",
    "            print(\"April\")\n",
    "        elif a==5:\n",
    "            print(\"May\")\n",
    "        elif a==6:\n",
    "            print(\"June\")\n",
    "        elif a==7:\n",
    "            print(\"July\")\n",
    "        elif a==8:\n",
    "            print(\"August\")\n",
    "        elif a==9:\n",
    "            print(\"September\")\n",
    "        elif a==10:\n",
    "            print(\"October\")\n",
    "        elif a==11:\n",
    "            print(\"November\")\n",
    "        elif a==12:\n",
    "            print(\"December\")\n",
    "    else:\n",
    "        print(\"Enter the number in between 1-12 only\")\n",
    "except:\n",
    "    print(\"Enter the valid input\")\n",
    "\n",
    "\n",
    "    \n",
    "    "
   ]
  },
  {
   "cell_type": "code",
   "execution_count": 1,
   "id": "8b8148f4-9b7a-4f52-9e55-e9b1d2f0ed0c",
   "metadata": {},
   "outputs": [
    {
     "name": "stdin",
     "output_type": "stream",
     "text": [
      "Enter 4 digit number: 23\n"
     ]
    },
    {
     "name": "stdout",
     "output_type": "stream",
     "text": [
      "not a leap year\n"
     ]
    }
   ],
   "source": [
    "#Write a  program to test year is leap year or not(Divisible  by  4  but  not  by  100   (or)  divisble  by  400)\n",
    "try:\n",
    "    a=int(input(\"Enter 4 digit number:\"))\n",
    "    if (a%4==0 and a%100!=0) or a%400==0:\n",
    "        print(\"Leap Year\")\n",
    "    else:\n",
    "        print(\"not a leap year\")\n",
    "except:\n",
    "    print(\"Enter a valid input\")"
   ]
  },
  {
   "cell_type": "code",
   "execution_count": 29,
   "id": "02742a9c-436d-46e5-b9aa-8cfcc2f15b5e",
   "metadata": {},
   "outputs": [
    {
     "name": "stdin",
     "output_type": "stream",
     "text": [
      "Enter 1st input 9\n",
      "Enter 2st input 90\n",
      "Enter 3st input 900\n"
     ]
    },
    {
     "name": "stdout",
     "output_type": "stream",
     "text": [
      "latgest number 900\n"
     ]
    }
   ],
   "source": [
    "#Write  a  program  to  determine  largest  of  three  numbers  with  if  and  else\n",
    "try:\n",
    "    a=eval(input(\"Enter 1st input\"))\n",
    "    b=eval(input(\"Enter 2st input\"))\n",
    "    c=eval(input(\"Enter 3st input\"))\n",
    "    if a>b>c:\n",
    "        print(f\"latgest number {a}\")\n",
    "    elif b>c>a:\n",
    "        print(f\"latgest number {b}\")\n",
    "    else:\n",
    "        print(f\"latgest number {c}\")\n",
    "except:\n",
    "    print(\"Enter a valid input\")\n",
    "    "
   ]
  },
  {
   "cell_type": "code",
   "execution_count": 39,
   "id": "1a93d0aa-f1cd-4ee7-b301-f5f58a1357af",
   "metadata": {},
   "outputs": [
    {
     "name": "stdin",
     "output_type": "stream",
     "text": [
      "Enter 1 to convert celsius to farenheit and 2 to convert fahrenheit to celsius:2 Enter fahrenheit temperature 2\n",
      "Enter fahrenheir temperature : 90\n"
     ]
    },
    {
     "name": "stdout",
     "output_type": "stream",
     "text": [
      "celsius  Equivalent 32.22222222222222\n"
     ]
    }
   ],
   "source": [
    "#Write  a  program  to  convert  celsius  temperature  to  farenheit  and  vice-versa\n",
    "try:\n",
    "    a=int(input(\"Enter 1 to convert celsius to farenheit and 2 to convert fahrenheit to celsius:2 Enter fahrenheit temperature\"))\n",
    "    if a==1:\n",
    "        temp=int(input(\"Enter celsius temperature :\"))\n",
    "        print(f\"Fahrenheit  Equivalent {1.8 * temp + 32}\")\n",
    "    elif a==2:\n",
    "        temp=int(input(\"Enter fahrenheir temperature :\"))\n",
    "        print(f\"celsius  Equivalent {(temp - 32) / 1.8}\")\n",
    "    else:\n",
    "        print(\"Enter 1 or 2 only\")\n",
    "except:\n",
    "    print(\"Enter valid input\")\n",
    "    "
   ]
  },
  {
   "cell_type": "code",
   "execution_count": 52,
   "id": "85bb3dfa-5bf2-4d35-bd9f-aaafdfc6e0f7",
   "metadata": {},
   "outputs": [
    {
     "name": "stdin",
     "output_type": "stream",
     "text": [
      "Enter value x co-ordinate :  23\n",
      "Enter value y co-ordinate :  2\n"
     ]
    },
    {
     "name": "stdout",
     "output_type": "stream",
     "text": [
      "1st Quadrant\n"
     ]
    }
   ],
   "source": [
    "#Write a program to test a point(x , y) lies in 1st quadrant,2nd quadrant,3rd quadrant,4th quadrant,x - axis,y - axis or origin\n",
    "try:\n",
    "    x=int(input(\"Enter value x co-ordinate : \"))\n",
    "    y=int(input(\"Enter value y co-ordinate : \"))\n",
    "    if x>0 and y>0:\n",
    "        print(\"1st Quadrant\")\n",
    "    elif x<0 and y>0:\n",
    "        print(\"2st Quadrant\")\n",
    "    elif x<0 and y<0:\n",
    "        print(\"3st Quadrant\")\n",
    "    elif x>0 and y<0:\n",
    "        print(\"4 st Quadrant\")\n",
    "    elif x!=0 and y==0:\n",
    "        print(\"on x -axis\")\n",
    "    elif x==0 and y!=0:\n",
    "        print(\"on  y - axis\")\n",
    "    else:\n",
    "        print(\"origin\")\n",
    "except:\n",
    "    print(\"Enter valid input\")\n",
    "               \n",
    "               \n",
    "                \n"
   ]
  },
  {
   "cell_type": "code",
   "execution_count": 58,
   "id": "30074dee-aa2e-4f5e-95d9-1623cf9e48cc",
   "metadata": {},
   "outputs": [
    {
     "name": "stdin",
     "output_type": "stream",
     "text": [
      "Enter 1st input 1\n",
      "Enter 2st input 2\n",
      "Enter 3st input 1\n"
     ]
    },
    {
     "name": "stdout",
     "output_type": "stream",
     "text": [
      "largest : 1\n"
     ]
    }
   ],
   "source": [
    "\n",
    "\n",
    "\n",
    "#Write  a  program  to  determine  largest , smallest  and  middle  of  three  numbers\n",
    "a=int(input(\"Enter 1st input\"))\n",
    "b=int(input(\"Enter 2nt input\"))\n",
    "c=int(input(\"Enter 3rd input\"))\n",
    "if a>b>c:\n",
    "    max=a\n",
    "    print(f\"largest : {max}\")\n",
    "elif b>a>c:\n",
    "    max=b\n",
    "    print(f\"largest : {max}\")\n",
    "else:\n",
    "    max=c\n",
    "    print(f\"largest : {max}\")\n",
    "    "
   ]
  },
  {
   "cell_type": "code",
   "execution_count": 73,
   "id": "3d660ede-706d-4e5c-b245-e6812c87b786",
   "metadata": {},
   "outputs": [
    {
     "name": "stdin",
     "output_type": "stream",
     "text": [
      "Enter 1st input 4\n",
      "Enter 2nd input 5\n",
      "Enter 3rd input 10\n"
     ]
    },
    {
     "name": "stdout",
     "output_type": "stream",
     "text": [
      "Not a triange\n"
     ]
    }
   ],
   "source": [
    "#Write  a  program  to  determine  three  sides  form  a  triangle  or  not\n",
    "import math\n",
    "a=float(input(\"Enter 1st input\"))\n",
    "b=float(input(\"Enter 2nd input\"))\n",
    "c=float(input(\"Enter 3rd input\"))\n",
    "if a+b>c:   \n",
    "    if a==b==c:\n",
    "        print(\"Equilateral  triangle\")\n",
    "        print(f\"Area : {(math.sqrt(3) / 4 )* (a ** 2)}\")\n",
    "    elif (a==b) or (b==c) or (c==a):\n",
    "        print(\"isosceles  triangle\")\n",
    "        print(f\"perimeter : {a+b+c}\")\n",
    "    elif a!=b!=c:\n",
    "        print(\"scalene  triangle\")\n",
    "        s=(a+b+c)/2\n",
    "        print(f\"area : {math.sqrt(s*(s-a)*(s-b)*(s-c))}\")\n",
    "        print(f\"perimeter : {a+b+c}\")\n",
    "else:\n",
    "    print(\"Not a triange\")"
   ]
  },
  {
   "cell_type": "code",
   "execution_count": 14,
   "id": "f0cbde48-9b89-49a1-b84e-057e4353994c",
   "metadata": {},
   "outputs": [
    {
     "name": "stdin",
     "output_type": "stream",
     "text": [
      "Enter x value :  3\n",
      "Enter y value :  4\n",
      "Enter radius :  5\n"
     ]
    },
    {
     "name": "stdout",
     "output_type": "stream",
     "text": [
      "on the circle\n"
     ]
    }
   ],
   "source": [
    "#Write a program to determine a point(x , y) lies inside,outside or on the circle.Center is origin and radius is 'r'\n",
    "import math\n",
    "x=int(input(\"Enter x value : \"))\n",
    "y=int(input(\"Enter y value : \"))\n",
    "radius=int(input(\"Enter radius : \"))\n",
    "distance=math.sqrt(x**2 + y**2)\n",
    "if distance>radius:\n",
    "    print(\"Out side the circle\")\n",
    "elif distance < radius:\n",
    "    print(\"Inside the circle\")\n",
    "else:\n",
    "    print(\"On the circle\")\n",
    "    \n"
   ]
  },
  {
   "cell_type": "code",
   "execution_count": 28,
   "id": "dda25850-778f-4d7b-8eca-f9941e5a1903",
   "metadata": {},
   "outputs": [
    {
     "name": "stdin",
     "output_type": "stream",
     "text": [
      "Enter the number between (1-9) :  4\n"
     ]
    },
    {
     "name": "stdout",
     "output_type": "stream",
     "text": [
      "Thursday\n"
     ]
    }
   ],
   "source": [
    "#### Write  a   program  to  print  day  of  the  week Use  match ... case\n",
    "try:\n",
    "    x=int(input(\"Enter the number between (1-9) : \"))\n",
    "    match x:\n",
    "        case 1:\n",
    "            print(\"Monday\")\n",
    "        case 2:\n",
    "            print(\"Tuesday\")\n",
    "        case 3:\n",
    "            print(\"Wednesday\")\n",
    "        case 4:\n",
    "            print(\"Thursday\")\n",
    "        case 5:\n",
    "             print(\"Friday\")\n",
    "        case 6:\n",
    "            print(\"Saturday\")\n",
    "        case 7:\n",
    "            print(\"sunday\")\n",
    "        case _:\n",
    "            print(\"Enter the number between 1 and 7 only\")\n",
    "except:\n",
    "    print(\"Enter valid input\")"
   ]
  },
  {
   "cell_type": "code",
   "execution_count": 32,
   "id": "e1ccb712-d04c-45cd-bd66-35080afe5c1d",
   "metadata": {},
   "outputs": [
    {
     "name": "stdin",
     "output_type": "stream",
     "text": [
      "Enter the number between (0-9) :  2\n"
     ]
    },
    {
     "name": "stdout",
     "output_type": "stream",
     "text": [
      "Two\n"
     ]
    }
   ],
   "source": [
    "#Write  a  program  to  print  digit in  words\n",
    "#### Write  a   program  to  print  day  of  the  week Use  match ... case\n",
    "try:\n",
    "    x=int(input(\"Enter the number between (0-9) : \"))\n",
    "    match x:\n",
    "        case 0:\n",
    "            print(\"Zero\")\n",
    "        case 1:\n",
    "            print(\"One\")\n",
    "        case 2:\n",
    "            print(\"Two\")\n",
    "        case 3:\n",
    "            print(\"Three\")\n",
    "        case 4:\n",
    "             print(\"Four\")\n",
    "        case 5:\n",
    "            print(\"Five\")\n",
    "        case 6:\n",
    "            print(\"Six\")\n",
    "        case 7:\n",
    "            print(\"Seven\")\n",
    "        case 8:\n",
    "            print(\"Eight\")\n",
    "        case 9:\n",
    "            print(\"Nine\")\n",
    "        case _:\n",
    "            print(\"Enter the number between 0 and 9 only\")\n",
    "except:\n",
    "    print(\"Enter valid input\")"
   ]
  },
  {
   "cell_type": "code",
   "execution_count": 8,
   "id": "f74eb8d3-6e2a-462a-ade9-208fbb3cf4a2",
   "metadata": {},
   "outputs": [
    {
     "name": "stdin",
     "output_type": "stream",
     "text": [
      "Enter the units: 900\n"
     ]
    },
    {
     "name": "stdout",
     "output_type": "stream",
     "text": [
      "Bill ammount : 4250.0\n"
     ]
    }
   ],
   "source": [
    "#Write  a  program  to  determine  bill  amount  and  input  is  units\n",
    "a=int(input(\"Enter the units:\"))\n",
    "if a<100:\n",
    "    b=0\n",
    "elif a>=100 and a<200:\n",
    "    b=1\n",
    "elif a>=200 and a<400:\n",
    "    b=2\n",
    "elif a>=400 and a<700:\n",
    "    b=3\n",
    "else:\n",
    "    b=4\n",
    "\n",
    "match b:\n",
    "    case 0:\n",
    "        cost=a*3.00\n",
    "    case 1:\n",
    "        cost=100*3.00+(a-100)*3.50\n",
    "    case 2:\n",
    "        cost=100*3.00+100*3.50+(a-200)*4.00\n",
    "    case 3:\n",
    "        cost=100*3.00+100*3.50+200*4.00+(a-400)*4.50\n",
    "    case 4:\n",
    "        cost=100*3.00+100*3.50+200*4.00+400*4.50+(a-700)*5.00\n",
    "        \n",
    "print(f\"Bill ammount : {cost}\")      "
   ]
  },
  {
   "cell_type": "code",
   "execution_count": 3,
   "id": "19671653-77ac-413f-99e2-734b36ad3c97",
   "metadata": {},
   "outputs": [
    {
     "name": "stdin",
     "output_type": "stream",
     "text": [
      "Enter the units: 100\n"
     ]
    },
    {
     "name": "stdout",
     "output_type": "stream",
     "text": [
      "Bill ammount : 300.0\n"
     ]
    }
   ],
   "source": [
    "#Write  a  program  to  determine  bill  amount  and  input  is  units\n",
    "a=int(input(\"Enter the units:\"))\n",
    "match a//100: #0-99 (number/100=0 so case 0 executed)\n",
    "    case 0:\n",
    "        cost=a*3.00\n",
    "    case 1:\n",
    "        cost=100*3.00+(a-100)*3.50\n",
    "    case 2 | 3:\n",
    "        cost=100*3.00+100*3.50+(a-200)*4.00\n",
    "    case 4|5|6:\n",
    "        cost=100*3.00+100*3.50+200*4.00+(a-400)*4.50\n",
    "    case _:\n",
    "        cost=100*3.00+100*3.50+200*4.00+400*4.50+(a-700)*5.00\n",
    "        \n",
    "print(f\"Bill ammount : {cost}\")      "
   ]
  },
  {
   "cell_type": "code",
   "execution_count": 10,
   "id": "6ca4e308-5c00-4cf1-b645-fa605cee19b9",
   "metadata": {},
   "outputs": [
    {
     "name": "stdout",
     "output_type": "stream",
     "text": [
      "10\n",
      "20\n",
      "15\n",
      "18\n"
     ]
    }
   ],
   "source": [
    "#How to  print  each  element  of  list  [10 , 20 , 15 , 18]  using  for  loop print()\n",
    "a=[10,20,15,18]\n",
    "for i in a:\n",
    "    print(i)"
   ]
  },
  {
   "cell_type": "code",
   "execution_count": 11,
   "id": "affa60f5-bdcd-4ed7-9fbe-2d4c660e11c1",
   "metadata": {},
   "outputs": [
    {
     "name": "stdout",
     "output_type": "stream",
     "text": [
      "h\n",
      "y\n",
      "d\n"
     ]
    }
   ],
   "source": [
    "a=\"hyd\"\n",
    "for i in a:\n",
    "    print(i)"
   ]
  },
  {
   "cell_type": "code",
   "execution_count": 15,
   "id": "be095209-f71e-43a3-a3ea-b8ec00f91b9d",
   "metadata": {},
   "outputs": [
    {
     "name": "stdin",
     "output_type": "stream",
     "text": [
      "Enter the password ········\n"
     ]
    },
    {
     "name": "stdout",
     "output_type": "stream",
     "text": [
      "umesh\n"
     ]
    }
   ],
   "source": [
    "import getpass\n",
    "a=getpass.getpass(\"Enter the password\")\n",
    "print(a)"
   ]
  },
  {
   "cell_type": "code",
   "execution_count": 24,
   "id": "4e1fe608-0627-42cf-9d24-201733997ceb",
   "metadata": {},
   "outputs": [
    {
     "name": "stdin",
     "output_type": "stream",
     "text": [
      "Enter the input 3+4j\n"
     ]
    },
    {
     "name": "stdout",
     "output_type": "stream",
     "text": [
      "45\n"
     ]
    }
   ],
   "source": [
    "import sys\n",
    "a=input(\"Enter the input\")\n",
    "print(sys.getsizeof(a))"
   ]
  },
  {
   "cell_type": "code",
   "execution_count": 36,
   "id": "3ad28194-8094-4b2d-907b-d91056670421",
   "metadata": {},
   "outputs": [
    {
     "name": "stdin",
     "output_type": "stream",
     "text": [
      "Enter month number (1 - 12):  2\n"
     ]
    },
    {
     "name": "stdout",
     "output_type": "stream",
     "text": [
      "Febraury\n"
     ]
    }
   ],
   "source": [
    "# Modify  following  program  with  else  and  if\n",
    "try:\n",
    "    a = int(input('Enter month number (1 - 12): '))\n",
    "    if  a == 1:\n",
    "        print('January')\n",
    "    else:\n",
    "        if  a == 2:\n",
    "            print('Febraury')\n",
    "        else:\n",
    "            if a == 3:\n",
    "                print('March')\n",
    "            else:\n",
    "                if  a == 4:\n",
    "                    print('April')\n",
    "                else:\n",
    "                    if a == 5:\n",
    "                        print('May')\n",
    "                    else:\n",
    "                        if a == 6:\n",
    "                            print('June')\n",
    "                        else:\n",
    "                            if  a == 7:\n",
    "                                print('july')\n",
    "                            else:\n",
    "                                if  a == 8:\n",
    "                                    print('August')\n",
    "                                else:\n",
    "                                    if  a == 9:\n",
    "                                        print('September')\n",
    "                                    else:\n",
    "                                        if  a == 10:\n",
    "                                            print('October')\n",
    "                                        else:\n",
    "                                            if  a == 11:\n",
    "                                                print('November')\n",
    "                                            else:\n",
    "                                                if  a == 12:\n",
    "                                                    print('December')\n",
    "                                                else:\n",
    "                                                    print('Input  should  be  between  1  and   12')\n",
    "except:\n",
    "\t\tprint('Input  should  be  an  integer')"
   ]
  },
  {
   "cell_type": "code",
   "execution_count": 37,
   "id": "32a762b4-a4a3-4d46-ba26-14a8c268c937",
   "metadata": {},
   "outputs": [
    {
     "name": "stdout",
     "output_type": "stream",
     "text": [
      "10\n",
      "30\n",
      "50\n",
      "\n",
      "20\n",
      "40\n",
      "60\n",
      "\n",
      "(10, 20)\n",
      "(30, 40)\n",
      "(50, 60)\n",
      "\n",
      "10\n",
      "30\n",
      "50\n"
     ]
    }
   ],
   "source": [
    "for  x  in  {10 : 20 , 30 : 40 , 50 : 60} . keys():\n",
    "\tprint(x)\n",
    "print()\n",
    "for  x  in  {10 : 20 , 30 : 40 , 50 : 60} . values():\n",
    "\tprint(x)\n",
    "print()\n",
    "for  x  in  {10 : 20 , 30 : 40 , 50 : 60} . items():\n",
    "\tprint(x)\n",
    "print()\n",
    "for  x  in  {10 : 20 , 30 : 40 , 50 : 60}:\n",
    "\tprint(x)"
   ]
  },
  {
   "cell_type": "code",
   "execution_count": 44,
   "id": "cf4f9ef1-6c66-4e35-b871-e29c4768c80d",
   "metadata": {},
   "outputs": [],
   "source": [
    "for  x   in   ():\n",
    "        print(x)\n",
    "for  x   in  []:\n",
    "        print(x)\n",
    "for  x   in   {}:\n",
    "        print(x)\n",
    "for  x   in   set():\n",
    "        print(x)\n",
    "for  x   in   '':\n",
    "        print(x)\n",
    "for  x  in  range(10 , 10):\n",
    "\tprint(x)\n",
    "#for  x  in   range():\n",
    "#\tprint(x)\n",
    "#for  x  in   (25):\n",
    "#\tprint(x)"
   ]
  },
  {
   "cell_type": "code",
   "execution_count": 2,
   "id": "2468f74c-c068-4be7-a8ec-4284fbccd6c2",
   "metadata": {},
   "outputs": [
    {
     "name": "stdout",
     "output_type": "stream",
     "text": [
      "1 1\n",
      "1 2\n",
      "1 3\n",
      "1 4\n",
      "Hello\n",
      "2 1\n",
      "2 2\n",
      "2 3\n",
      "2 4\n",
      "Hello\n",
      "3 1\n",
      "3 2\n",
      "3 3\n",
      "3 4\n",
      "Hello\n",
      "Bye\n"
     ]
    }
   ],
   "source": [
    "for  i  in  range(1 , 4): \n",
    "\tfor  j  in  range(1 , 5):\n",
    "\t\tprint(i ,  j)\n",
    "\tprint('Hello')\n",
    "print('Bye')"
   ]
  },
  {
   "cell_type": "code",
   "execution_count": 4,
   "id": "d2908369-8ddc-451b-b0a4-981b11d621bd",
   "metadata": {},
   "outputs": [
    {
     "name": "stdout",
     "output_type": "stream",
     "text": [
      "0 25\n",
      "1 10.8\n",
      "2 Hyd\n",
      "3 True\n"
     ]
    }
   ],
   "source": [
    "# How  to  print  each  element  and  the  corresponding  index\n",
    "a = [25,10.8,'Hyd',True]\n",
    "for i in range(len(a)):\n",
    "    print(i,a[i])"
   ]
  },
  {
   "cell_type": "code",
   "execution_count": 7,
   "id": "00deded7-2058-4c0d-a9fb-b220a5993de7",
   "metadata": {},
   "outputs": [
    {
     "name": "stdin",
     "output_type": "stream",
     "text": [
      "Enter  list  of  elements :  [1,2,3]\n"
     ]
    }
   ],
   "source": [
    "# How  to  print  list  elements  in  reverse  order   without  slice\n",
    "a = eval(input('Enter  list  of  elements : '))\n",
    "for i in range(len(a)-1,0):\n",
    "    print(a[i])\n"
   ]
  },
  {
   "cell_type": "code",
   "execution_count": 20,
   "id": "3caeadf3-506f-4ed6-b122-a76a7b75a8e2",
   "metadata": {},
   "outputs": [
    {
     "name": "stdout",
     "output_type": "stream",
     "text": [
      "10 9 8 7 6\n"
     ]
    }
   ],
   "source": [
    "a=range(10,5,-1)\n",
    "print(*a)"
   ]
  },
  {
   "cell_type": "code",
   "execution_count": 13,
   "id": "748e56dd-70b4-4262-9539-b863e1494bea",
   "metadata": {},
   "outputs": [
    {
     "name": "stdin",
     "output_type": "stream",
     "text": [
      "Enter any number : 50\n"
     ]
    },
    {
     "name": "stdout",
     "output_type": "stream",
     "text": [
      "0\n",
      "1\n",
      "1\n",
      "2\n",
      "3\n",
      "5\n",
      "8\n",
      "13\n",
      "21\n",
      "34\n"
     ]
    }
   ],
   "source": [
    "#fibonacci series less than the n\n",
    "n=int(input(\"Enter any number :\"))\n",
    "a=0\n",
    "b=1\n",
    "c=0\n",
    "while c<n:\n",
    "    a=b\n",
    "    b=c\n",
    "    print(c)\n",
    "    c=a+b"
   ]
  },
  {
   "cell_type": "code",
   "execution_count": 27,
   "id": "efc9c5c4-50f3-42c6-9fa6-fe2eaaf2143b",
   "metadata": {},
   "outputs": [
    {
     "name": "stdin",
     "output_type": "stream",
     "text": [
      "Enter the number : 0\n"
     ]
    }
   ],
   "source": [
    "##fibonacci series n trems\n",
    "n=int(input(\"Enter the number :\"))\n",
    "a=0\n",
    "b=1\n",
    "c=0\n",
    "i=1\n",
    "while i<=n:\n",
    "    a=b\n",
    "    b=c\n",
    "    print(c)\n",
    "    c=a+b\n",
    "    i=i+1     "
   ]
  },
  {
   "cell_type": "code",
   "execution_count": 35,
   "id": "584e3ef0-1e2b-4909-ac16-292bf7e89173",
   "metadata": {},
   "outputs": [
    {
     "name": "stdin",
     "output_type": "stream",
     "text": [
      "Enter the number : 10\n"
     ]
    },
    {
     "name": "stdout",
     "output_type": "stream",
     "text": [
      "0\n",
      "1\n",
      "1\n",
      "2\n",
      "3\n",
      "5\n",
      "8\n",
      "13\n",
      "21\n",
      "34\n"
     ]
    }
   ],
   "source": [
    "n=int(input(\"Enter the number :\"))\n",
    "a=0\n",
    "print(a)\n",
    "if n>1:\n",
    "    b=1\n",
    "    print(b)\n",
    "    c=a+b\n",
    "    for i in range(n-2):\n",
    "        print(c)\n",
    "        a=b\n",
    "        b=c\n",
    "        c=a+b"
   ]
  },
  {
   "cell_type": "code",
   "execution_count": 11,
   "id": "9de756f3-9eaa-41e7-9b1a-b6a27df411ce",
   "metadata": {},
   "outputs": [
    {
     "name": "stdout",
     "output_type": "stream",
     "text": [
      "25\n"
     ]
    }
   ],
   "source": [
    "#walrus operator (in single line we can assin the value and print the value)\n",
    "print(a:=25)\n",
    "#print(a=25) error"
   ]
  },
  {
   "cell_type": "code",
   "execution_count": 19,
   "id": "a8afc6dc-506b-499a-abdc-ea292877e2d0",
   "metadata": {},
   "outputs": [
    {
     "name": "stdout",
     "output_type": "stream",
     "text": [
      "(20, 30, 40)\n"
     ]
    }
   ],
   "source": [
    "#del() (it is used to delete the referece of the object if there is reference to the object then pvm deletes the object)\n",
    "a=(20,30,40)\n",
    "b=(20,30,40)\n",
    "del(a)\n",
    "print(b)"
   ]
  },
  {
   "cell_type": "code",
   "execution_count": 25,
   "id": "494b9700-6608-44ec-8743-74b247df88ee",
   "metadata": {},
   "outputs": [
    {
     "name": "stdout",
     "output_type": "stream",
     "text": [
      "10\n",
      "20\n",
      "30\n",
      "x =  30\n"
     ]
    }
   ],
   "source": [
    "# else block is not executed if for loop breaks\n",
    "a=[10,20,30]\n",
    "for x in a:\n",
    "    print(x)\n",
    "    if x==30:\n",
    "        print(\"x = \",30)\n",
    "        break\n",
    "else:\n",
    "    print(\"End\")"
   ]
  },
  {
   "cell_type": "code",
   "execution_count": 29,
   "id": "95e3d886-83a8-4811-97db-b1ad6173e31d",
   "metadata": {},
   "outputs": [
    {
     "name": "stdout",
     "output_type": "stream",
     "text": [
      "[1, 2, 3, 4, [5, 6, 7, 8]]\n",
      "[1, 2, 3, 4, 5, 6, 7, 8]\n"
     ]
    }
   ],
   "source": [
    "#append() is used to add a single element so enter list taken a single list and added\n",
    "a=[1,2,3,4]\n",
    "b=[5,6,7,8]\n",
    "a.append(b)\n",
    "print(a)\n",
    "c=[1,2,3,4]\n",
    "d=[5,6,7,8]\n",
    "c.extend(d) # it is used to add a list in list and it adds single element at single index\n",
    "print(c)"
   ]
  },
  {
   "cell_type": "code",
   "execution_count": 9,
   "id": "3b1fdfb0-9723-47f8-8132-2072db992a91",
   "metadata": {},
   "outputs": [
    {
     "name": "stdin",
     "output_type": "stream",
     "text": [
      "Emter the first string umesh\n",
      "Enteer the second string hyd\n"
     ]
    },
    {
     "name": "stdout",
     "output_type": "stream",
     "text": [
      "uhmyedsh\n"
     ]
    }
   ],
   "source": [
    "#Write a program to merge two strings to form a new string\n",
    "a=input(\"Emter the first string\")\n",
    "b=input(\"Enteer the second string\")\n",
    "c=\"\"\n",
    "if len(b)>len(a):\n",
    "    for i in range(len(a)):\n",
    "        c+=a[i]+b[i]\n",
    "    c=c+b[len(a):]\n",
    "else:\n",
    "    for i in range(len(b)):\n",
    "        c+=a[i]+b[i]\n",
    "    c=c+a[len(b):]\n",
    "    \n",
    "print(c)"
   ]
  },
  {
   "cell_type": "code",
   "execution_count": 10,
   "id": "223e71c2-3b12-43f4-b5b3-041a2261abae",
   "metadata": {},
   "outputs": [
    {
     "name": "stdin",
     "output_type": "stream",
     "text": [
      "Enter the string aamsjke\n"
     ]
    },
    {
     "name": "stdout",
     "output_type": "stream",
     "text": [
      "amsjke\n"
     ]
    }
   ],
   "source": [
    "#Write  a  program  to  remove  duplicate  characters  of  the  string  without  using  set\n",
    "a=input(\"Enter the string\")\n",
    "b=\"\"\n",
    "for i in a:\n",
    "    if i not in b:\n",
    "        b+=i\n",
    "print(b)"
   ]
  },
  {
   "cell_type": "code",
   "execution_count": 5,
   "id": "0b381f00-4e9d-4f0b-a548-0fb5c0324612",
   "metadata": {},
   "outputs": [
    {
     "name": "stdin",
     "output_type": "stream",
     "text": [
      "Enter  string  with  alternate  char  and  digit h4\n"
     ]
    },
    {
     "name": "stdout",
     "output_type": "stream",
     "text": [
      "hl\n"
     ]
    }
   ],
   "source": [
    "#Let input be A4M3Z5D2--->  AEMPZ_DF\n",
    "a=input(\"Enter  string  with  alternate  char  and  digit\")\n",
    "b=\"\"\n",
    "try:\n",
    "    for i in range(0,len(a),2):\n",
    "        b+=a[i]+chr(ord(a[i])+int(a[i+1]))\n",
    "    print(b)  \n",
    "except ValueError:\n",
    "    print(\"Enter only  string  with  alternate  char  and  digit\")\n",
    "    "
   ]
  },
  {
   "cell_type": "code",
   "execution_count": 14,
   "id": "1edd5179-dcd1-4f5c-b922-986c18f19b2f",
   "metadata": {},
   "outputs": [
    {
     "name": "stdin",
     "output_type": "stream",
     "text": [
      "Enter any string awbsis\n"
     ]
    },
    {
     "name": "stdout",
     "output_type": "stream",
     "text": [
      "awis\n"
     ]
    }
   ],
   "source": [
    "'''\n",
    "Write a program to print first two and the last two characters of the string \n",
    "Print an empty string if string contains less than four characters\n",
    "Let  input  be  PYTHON\n",
    "What  is  the  output ?  ---> PYON\n",
    "'''\n",
    "a=input(\"Enter any string\")\n",
    "b=''\n",
    "if len(a)<4:\n",
    "    print()\n",
    "else:\n",
    "    b=a[0:2]+a[-2:]\n",
    "    print(b)\n",
    "    \n",
    "\n",
    "\n"
   ]
  },
  {
   "cell_type": "code",
   "execution_count": 21,
   "id": "7de92373-89d2-4f16-b695-efeeb44e5c12",
   "metadata": {},
   "outputs": [
    {
     "name": "stdin",
     "output_type": "stream",
     "text": [
      "Enter any string umesh\n"
     ]
    },
    {
     "name": "stdout",
     "output_type": "stream",
     "text": [
      "Character  at  index  1:m\n",
      "Character  at  index  2:e\n",
      "Character  at  index  3:s\n",
      "Character  at  index  4:h\n",
      "Character  at  index  -1:h\n",
      "Character  at  index  -2:s\n",
      "Character  at  index  -3:e\n",
      "Character  at  index  -4:m\n",
      "Character  at  index  -5:u\n"
     ]
    }
   ],
   "source": [
    "#Write  a  program  to  print  characters  of  the  string  in  forward  and  reverse  directions  without  slice\n",
    "a=input(\"Enter any string\")\n",
    "for i in range(1,len(a)):\n",
    "    print(f\"Character  at  index  {i}:{a[i]}\")\n",
    "for i in range(1,len(a)+1):\n",
    "    print(f\"Character  at  index  {-i}:{a[-i]}\")"
   ]
  },
  {
   "cell_type": "code",
   "execution_count": 24,
   "id": "3f6ebb8d-9fee-4ca3-9099-b2a4e3401851",
   "metadata": {},
   "outputs": [
    {
     "name": "stdin",
     "output_type": "stream",
     "text": [
      "Enter any string umeshg\n"
     ]
    },
    {
     "name": "stdout",
     "output_type": "stream",
     "text": [
      "ueh\n",
      "msg\n"
     ]
    }
   ],
   "source": [
    "#Write  a  program  to  print  characters  at  even  and  odd  indexes  without  slice\n",
    "a=input(\"Enter any string\")\n",
    "Even=\"\"\n",
    "Odd=\"\"\n",
    "for i in range(0,len(a),2):\n",
    "    Even+=a[i]\n",
    "    Odd+=a[i+1]\n",
    "print(Even)\n",
    "print(Odd)"
   ]
  },
  {
   "cell_type": "code",
   "execution_count": 26,
   "id": "4fa5bf5c-a1aa-44d0-aaaa-5a7cdc190560",
   "metadata": {},
   "outputs": [
    {
     "name": "stdin",
     "output_type": "stream",
     "text": [
      "Enter first string umesh\n",
      "Enter second string sandeep\n"
     ]
    },
    {
     "name": "stdout",
     "output_type": "stream",
     "text": [
      "sash umeshndeep\n"
     ]
    }
   ],
   "source": [
    "#Write  a  program  to  concatenate  two  strings  separated  by  space  but  swap  the  first  two  characters  of each string.\n",
    "a=input(\"Enter first string\")\n",
    "b=input(\"Enter second string\")\n",
    "result=b[0:2]+a[-2:]+\" \"+a[0:len(b)-2]+b[2:]\n",
    "print(result)"
   ]
  },
  {
   "cell_type": "code",
   "execution_count": 31,
   "id": "610725fe-742e-4cd6-af28-488a837afede",
   "metadata": {},
   "outputs": [
    {
     "name": "stdin",
     "output_type": "stream",
     "text": [
      "Enter a string :  umesh\n"
     ]
    },
    {
     "name": "stdout",
     "output_type": "stream",
     "text": [
      "UE\n"
     ]
    }
   ],
   "source": [
    "#Write  a  program  to  print  distinct  vowels  of  the  string  without  using  set\n",
    "a=input(\"Enter a string : \")\n",
    "b=a.upper()\n",
    "d=[\"A\",\"E\",\"I\",\"O\",\"U\"]\n",
    "c=''\n",
    "for i in b:\n",
    "    if i in d and i not in c:\n",
    "        c+=i\n",
    "print(c)      "
   ]
  },
  {
   "cell_type": "code",
   "execution_count": 21,
   "id": "d3429d80-9216-4e42-a35a-b48b5b35e9b0",
   "metadata": {},
   "outputs": [
    {
     "name": "stdin",
     "output_type": "stream",
     "text": [
      "Enter a string umuuuu\n"
     ]
    },
    {
     "name": "stdout",
     "output_type": "stream",
     "text": [
      "um****\n"
     ]
    }
   ],
   "source": [
    "'''\n",
    "Write  a  program  to  replace  every  occurance  of  first  character  in  the  string  with  '*'  except  first  character\n",
    "Let  input  be  'babble'\n",
    "What  is  the  output ?  --->  ba**le\n",
    "'''\n",
    "a=input(\"Enter a string\")\n",
    "b=a.replace(a[0],\"*\")\n",
    "print(a[0]+b[1:])"
   ]
  },
  {
   "cell_type": "code",
   "execution_count": 111,
   "id": "f10a16d9-98f4-4b86-a68a-3116ceabf089",
   "metadata": {},
   "outputs": [
    {
     "name": "stdin",
     "output_type": "stream",
     "text": [
      "Enter any string sddf\n"
     ]
    },
    {
     "name": "stdout",
     "output_type": "stream",
     "text": [
      "Enter only numbers and + operater\n"
     ]
    }
   ],
   "source": [
    "'''\n",
    "Write  a  program  to  evaluate  an  expression  which  contains  only  +  symbols\n",
    "Let  input  be  3+2+4+5+6+21+4+5+8+12.....\n",
    "Print  the  sum  result\n",
    "Hint:  Use  split()  method\n",
    "'''\n",
    "try:\n",
    "    a=input(\"Enter any string\")#2+3+4\n",
    "    b=a.split(\"+\")#[\"2\",\"3\",\"4\"]\n",
    "    c=0\n",
    "    for i in b:\n",
    "        c+=int(i)\n",
    "    print(c)\n",
    "except ValueError:\n",
    "    print(\"Enter only numbers and + operater\")"
   ]
  },
  {
   "cell_type": "code",
   "execution_count": 116,
   "id": "cfd78f7e-5ad7-4a44-a5b8-bc52746cc1da",
   "metadata": {},
   "outputs": [
    {
     "name": "stdin",
     "output_type": "stream",
     "text": [
      "Enter any string :  um\n"
     ]
    },
    {
     "name": "stdout",
     "output_type": "stream",
     "text": [
      "um\n"
     ]
    }
   ],
   "source": [
    "'''\n",
    "Write  a  program  to  append  'ing'  to  input  string.\n",
    "Append  'ly'  to  the  string  if  the  string  already  ends  with  'ing'.\n",
    "Leave  the  string  unchanged  if  string  has  lessthan  three  characters\n",
    "'''\n",
    "a=input(\"Enter any string : \")\n",
    "if len(a)<3:\n",
    "    print(a)\n",
    "elif a.endswith(\"ing\"):\n",
    "    print(a+\"ly\")\n",
    "else:\n",
    "    print(a+\"ing\")"
   ]
  },
  {
   "cell_type": "code",
   "execution_count": 125,
   "id": "72201a6b-4f59-4787-a2d6-7d389e766938",
   "metadata": {},
   "outputs": [
    {
     "name": "stdout",
     "output_type": "stream",
     "text": [
      "4\n",
      "23\n",
      "42\n",
      "46\n",
      "End\n"
     ]
    }
   ],
   "source": [
    "'''\n",
    "index()--> it prints the index of character if it not present result is error\n",
    "find()-->it prints the index of character if it not present result is -1\n",
    "'''\n",
    "a = 'Hyd is green city. Hyd is hitec city. Hyd is his city'\n",
    "try:\n",
    "    index = a .index('is')\n",
    "    while  index<=len(a):\n",
    "    \tprint(index)\n",
    "    \tindex = a .index('is' , index + 1)\n",
    "except ValueError:\n",
    "    print('End')"
   ]
  },
  {
   "cell_type": "code",
   "execution_count": 1,
   "id": "63ba4188-a021-4f33-8f55-5a50ea30fdb6",
   "metadata": {},
   "outputs": [
    {
     "name": "stdout",
     "output_type": "stream",
     "text": [
      "4\n",
      "23\n",
      "42\n",
      "46\n",
      "End\n"
     ]
    }
   ],
   "source": [
    "'''\n",
    "Modify  following  program  with  walrus  operator\n",
    "\n",
    "Hint:  Combine  lines  7 , 8  and  10  to  a  single  line  with  walrus  operator\n",
    "'''\n",
    "a = 'Hyd is green city. Hyd is hitec city. Hyd is his city'\n",
    "index = a . find('is')\n",
    "while  index != -1:\n",
    "\tprint(index)\n",
    "\tindex = a . find('is' , index + 1)\n",
    "print('End')"
   ]
  },
  {
   "cell_type": "code",
   "execution_count": 8,
   "id": "7e8f0a88-8a32-4425-9296-ef664b4bf466",
   "metadata": {},
   "outputs": [
    {
     "name": "stdout",
     "output_type": "stream",
     "text": [
      "4\n",
      "46\n",
      "4\n"
     ]
    }
   ],
   "source": [
    "a = 'Hyd is green city. Hyd is hitec city. Hyd is his city'\n",
    "print(a.index(\"is\"))\n",
    "print(a.rindex(\"is\"))# it srearch from right to left \n",
    "print(a.rindex(\"is\",4,10))"
   ]
  },
  {
   "cell_type": "code",
   "execution_count": 1,
   "id": "3a79643e-f8ba-4252-bd65-3314e4447cac",
   "metadata": {},
   "outputs": [
    {
     "name": "stdin",
     "output_type": "stream",
     "text": [
      "Enter any character :  A\n"
     ]
    },
    {
     "name": "stdout",
     "output_type": "stream",
     "text": [
      "Alphabet\n",
      "Uppercase Character\n",
      "Alphanumaric\n"
     ]
    }
   ],
   "source": [
    "#Write a program to determine user input is alphabet,digit,white space or special character\n",
    "a=input(\"Enter any character : \")\n",
    "if a.isspace()==True:\n",
    "    print(\"speace\")\n",
    "elif a.isalpha()==True:\n",
    "    print(\"Alphabet\")\n",
    "    if a.isupper()==True:\n",
    "        print(\"Uppercase Character\")\n",
    "    if a.isalnum()==True:\n",
    "        print(\"Alphanumaric\")\n",
    "    if a.islower()==True:\n",
    "        print(\"Lowercase character\")\n",
    "\n",
    "elif a.isalnum()==True:\n",
    "    print(\"NUmber\")\n",
    "    if a.isdigit()==True:\n",
    "        print(\"Digit\")"
   ]
  },
  {
   "cell_type": "code",
   "execution_count": 35,
   "id": "7f2dd4f5-c636-413d-9576-ab4eb7f28e25",
   "metadata": {},
   "outputs": [
    {
     "name": "stdin",
     "output_type": "stream",
     "text": [
      "Enter a strinng :  umesh\n"
     ]
    },
    {
     "name": "stdout",
     "output_type": "stream",
     "text": [
      "hsemu\n"
     ]
    }
   ],
   "source": [
    "# Write  a  program  to  reverse  a  string  without  slice\n",
    "a=input(\"Enter a strinng : \")\n",
    "b=''\n",
    "for i in range(1,len(a)+1):\n",
    "    b+=a[-i]\n",
    "print(b)"
   ]
  },
  {
   "cell_type": "code",
   "execution_count": 43,
   "id": "6bff3a18-b217-4114-b94f-b4e49586e200",
   "metadata": {},
   "outputs": [
    {
     "name": "stdin",
     "output_type": "stream",
     "text": [
      "Enter a strinng :  Hyd  is  green  city\n"
     ]
    },
    {
     "name": "stdout",
     "output_type": "stream",
     "text": [
      "city green is Hyd \n"
     ]
    }
   ],
   "source": [
    "'''\n",
    "Write  a  program  to  reverse  order  of  words  in  the  sentence  without  slice\n",
    "Let  input  be  Hyd  is  green  city\n",
    "output ?  ---> city   green   is   Hyd\n",
    "'''\n",
    "a=input(\"Enter a strinng : \")\n",
    "b=a.split()#defilt split is white space and returns all elements in list\n",
    "c=''\n",
    "for i in range(1,len(b)+1):\n",
    "    c+=b[-i]+' '\n",
    "print(c)\n",
    "\n"
   ]
  },
  {
   "cell_type": "code",
   "execution_count": 51,
   "id": "da37e01f-a782-4470-abdf-a1a3c97f6977",
   "metadata": {},
   "outputs": [
    {
     "name": "stdin",
     "output_type": "stream",
     "text": [
      "Enter a strinng :  Hyd  is  green  city\n"
     ]
    },
    {
     "name": "stdout",
     "output_type": "stream",
     "text": [
      "dyH si neerg ytic \n"
     ]
    }
   ],
   "source": [
    "'''\n",
    "Write  a  program  to  reverse  each  word  of  the  sentence\n",
    "Let  input  be  Hyd  is  green  city\n",
    "output ?  ---> dyH si neerg ytic\n",
    "'''\n",
    "a=input(\"Enter a strinng : \")\n",
    "b=a.split()#defilt split is white space and returns all elements in list\n",
    "c=''\n",
    "for i in range(0,len(b)):\n",
    "    c+=b[i][::-1]+' '\n",
    "print(c)\n"
   ]
  },
  {
   "cell_type": "code",
   "execution_count": 61,
   "id": "49343fd2-4984-449b-99be-5f0024e03703",
   "metadata": {},
   "outputs": [
    {
     "name": "stdin",
     "output_type": "stream",
     "text": [
      "Enter a strinng :  umesh\n"
     ]
    },
    {
     "name": "stdout",
     "output_type": "stream",
     "text": [
      "ehmsu\n"
     ]
    }
   ],
   "source": [
    "#Write  a  program  to  sort  string  in  alphabetical  order\n",
    "a=input(\"Enter a strinng : \")\n",
    "b=sorted(a)#sorted the string and returns all the elements in list\n",
    "print(''.join(b))\n"
   ]
  },
  {
   "cell_type": "code",
   "execution_count": 1,
   "id": "63411cf9-a0ab-4029-bc5e-4a08dbb8c519",
   "metadata": {},
   "outputs": [
    {
     "name": "stdin",
     "output_type": "stream",
     "text": [
      "Enter a strinng :  hc5ds5\n"
     ]
    },
    {
     "name": "stdout",
     "output_type": "stream",
     "text": [
      "cdhs55\n"
     ]
    }
   ],
   "source": [
    "'''\n",
    "Write  a  program  to  sort  string  such  that  alphabets  in  alphabetical  order  and  digits  in  ascending  order\n",
    "Let  input  be  Z9K3PA7D51\n",
    "What  is  the  output ?  ---> ADKPZ13579\n",
    "'''\n",
    "a=input(\"Enter a strinng : \")\n",
    "alpha=''\n",
    "digit=''\n",
    "for i in a:\n",
    "    if i.isalpha()==True:\n",
    "        alpha+=i\n",
    "    elif i.isdigit()==True:\n",
    "        digit+=i\n",
    "alpha=sorted(alpha)\n",
    "digit=sorted(digit)\n",
    "print(''.join(alpha)+''.join(digit))"
   ]
  },
  {
   "cell_type": "code",
   "execution_count": 42,
   "id": "62140689-75a8-43eb-9c00-08bbef265bf7",
   "metadata": {},
   "outputs": [
    {
     "name": "stdin",
     "output_type": "stream",
     "text": [
      "Enter any number 10\n"
     ]
    },
    {
     "name": "stdout",
     "output_type": "stream",
     "text": [
      "10 is not a prime number\n",
      "[2, 5]\n"
     ]
    }
   ],
   "source": [
    "# write a program of prime numnber or not \n",
    "a=int(input(\"Enter any number\"))\n",
    "b=0\n",
    "i=2\n",
    "c=[]\n",
    "while i<a:\n",
    "    if a%i==0:\n",
    "        b+=1\n",
    "    i+=1\n",
    "if b==0:\n",
    "    print(f\"{a} is a prime number\")\n",
    "else:\n",
    "    print(f\"{a} is not a prime number\")\n",
    "print(c)    "
   ]
  }
 ],
 "metadata": {
  "kernelspec": {
   "display_name": "Python [conda env:base] *",
   "language": "python",
   "name": "conda-base-py"
  },
  "language_info": {
   "codemirror_mode": {
    "name": "ipython",
    "version": 3
   },
   "file_extension": ".py",
   "mimetype": "text/x-python",
   "name": "python",
   "nbconvert_exporter": "python",
   "pygments_lexer": "ipython3",
   "version": "3.12.7"
  }
 },
 "nbformat": 4,
 "nbformat_minor": 5
}
